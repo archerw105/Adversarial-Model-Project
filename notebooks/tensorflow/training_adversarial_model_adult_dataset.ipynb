{
 "cells": [
  {
   "cell_type": "code",
   "execution_count": 1,
   "metadata": {},
   "outputs": [
    {
     "name": "stderr",
     "output_type": "stream",
     "text": [
      "/anaconda3/lib/python3.7/site-packages/nbformat/current.py:19: UserWarning: nbformat.current is deprecated.\n",
      "\n",
      "- use nbformat for read/write/validate public API\n",
      "- use nbformat.vX directly to composing notebooks of a particular version\n",
      "\n",
      "  \"\"\")\n"
     ]
    },
    {
     "name": "stdout",
     "output_type": "stream",
     "text": [
      "importing Jupyter notebook from load_dataset.ipynb\n",
      "importing Jupyter notebook from adversarial_debiasing_model.ipynb\n",
      "importing Jupyter notebook from fairness_metrics.ipynb\n"
     ]
    }
   ],
   "source": [
    "import io, os, sys, types\n",
    "from IPython import get_ipython\n",
    "from nbformat import current\n",
    "from IPython.core.interactiveshell import InteractiveShell\n",
    "\n",
    "def find_notebook(fullname, path=None):\n",
    "    \"\"\"find a notebook, given its fully qualified name and an optional path\n",
    "\n",
    "    This turns \"foo.bar\" into \"foo/bar.ipynb\"\n",
    "    and tries turning \"Foo_Bar\" into \"Foo Bar\" if Foo_Bar\n",
    "    does not exist.\n",
    "    \"\"\"\n",
    "    name = fullname.rsplit('.', 1)[-1]\n",
    "    if not path:\n",
    "        path = ['']\n",
    "    for d in path:\n",
    "        nb_path = os.path.join(d, name + \".ipynb\")\n",
    "        if os.path.isfile(nb_path):\n",
    "            return nb_path\n",
    "        # let import Notebook_Name find \"Notebook Name.ipynb\"\n",
    "        nb_path = nb_path.replace(\"_\", \" \")\n",
    "        if os.path.isfile(nb_path):\n",
    "            return nb_path\n",
    "\n",
    "\n",
    "class NotebookLoader(object):\n",
    "    \"\"\"Module Loader for Jupyter Notebooks\"\"\"\n",
    "    def __init__(self, path=None):\n",
    "        self.shell = InteractiveShell.instance()\n",
    "        self.path = path\n",
    "\n",
    "    def load_module(self, fullname):\n",
    "        \"\"\"import a notebook as a module\"\"\"\n",
    "        path = find_notebook(fullname, self.path)\n",
    "\n",
    "        print (\"importing Jupyter notebook from %s\" % path)\n",
    "\n",
    "        # load the notebook object\n",
    "        with io.open(path, 'r', encoding='utf-8') as f:\n",
    "            nb = current.read(f, 'json')\n",
    "\n",
    "\n",
    "        # create the module and add it to sys.modules\n",
    "        # if name in sys.modules:\n",
    "        #    return sys.modules[name]\n",
    "        mod = types.ModuleType(fullname)\n",
    "        mod.__file__ = path\n",
    "        mod.__loader__ = self\n",
    "        mod.__dict__['get_ipython'] = get_ipython\n",
    "        sys.modules[fullname] = mod\n",
    "\n",
    "        # extra work to ensure that magics that would affect the user_ns\n",
    "        # actually affect the notebook module's ns\n",
    "        save_user_ns = self.shell.user_ns\n",
    "        self.shell.user_ns = mod.__dict__\n",
    "\n",
    "        try:\n",
    "            for cell in nb.worksheets[0].cells:\n",
    "                if cell.cell_type == 'code' and cell.language == 'python':\n",
    "                    # transform the input to executable Python\n",
    "                    code = self.shell.input_transformer_manager.transform_cell(cell.input)\n",
    "                    # run the code in themodule\n",
    "                    exec(code, mod.__dict__)\n",
    "        finally:\n",
    "            self.shell.user_ns = save_user_ns\n",
    "        return mod\n",
    "\n",
    "\n",
    "class NotebookFinder(object):\n",
    "    \"\"\"Module finder that locates Jupyter Notebooks\"\"\"\n",
    "    def __init__(self):\n",
    "        self.loaders = {}\n",
    "\n",
    "    def find_module(self, fullname, path=None):\n",
    "        nb_path = find_notebook(fullname, path)\n",
    "        if not nb_path:\n",
    "            return\n",
    "\n",
    "        key = path\n",
    "        if path:\n",
    "            # lists aren't hashable\n",
    "            key = os.path.sep.join(path)\n",
    "\n",
    "        if key not in self.loaders:\n",
    "            self.loaders[key] = NotebookLoader(path)\n",
    "        return self.loaders[key]\n",
    "\n",
    "sys.meta_path.append(NotebookFinder())\n",
    "\n",
    "from load_dataset import *\n",
    "from adversarial_debiasing_model import *\n",
    "from fairness_metrics import *"
   ]
  },
  {
   "cell_type": "code",
   "execution_count": 14,
   "metadata": {},
   "outputs": [
    {
     "name": "stdout",
     "output_type": "stream",
     "text": [
      "loaded\n",
      "scaled\n",
      "[[4213 6995]\n",
      " [1669 9539]]  balanced income gender\n",
      "balanced\n"
     ]
    }
   ],
   "source": [
    "###### adult dataset\n",
    "filepath = \"../../data/Adult Dataset/processed_adult.csv\"\n",
    "label_column, protect_column = \"income\", \"gender\"\n",
    "\n",
    "balanced = {\"label_only\":True,\"downsample\":True}\n",
    "num_proxy_to_remove = 0\n",
    "train_dataset, test_dataset = train_test_dataset(filepath, label_column, protect_column, \n",
    "                                                 is_scaled=True,\n",
    "                                                 num_proxy_to_remove=num_proxy_to_remove,\n",
    "                                                 balanced=balanced\n",
    "                                                )\n",
    "\n",
    "# Data loaders\n",
    "train_loader = torch.utils.data.DataLoader(dataset=train_dataset, shuffle=True, worker_init_fn=np.random.seed(1))\n",
    "test_loader = torch.utils.data.DataLoader(dataset=test_dataset, shuffle=False, worker_init_fn=np.random.seed(1))\n",
    "\n",
    "train_features, train_labels, train_protect = train_loader.dataset.features, train_loader.dataset.label, train_loader.dataset.protect\n",
    "test_features, test_labels, test_protect = test_loader.dataset.features, test_loader.dataset.label, test_loader.dataset.protect\n",
    "\n",
    "\n"
   ]
  },
  {
   "cell_type": "code",
   "execution_count": 15,
   "metadata": {},
   "outputs": [
    {
     "name": "stdout",
     "output_type": "stream",
     "text": [
      "WARNING:tensorflow:From /anaconda3/lib/python3.7/site-packages/tensorflow_core/python/ops/resource_variable_ops.py:1630: calling BaseResourceVariable.__init__ (from tensorflow.python.ops.resource_variable_ops) with constraint is deprecated and will be removed in a future version.\n",
      "Instructions for updating:\n",
      "If using Keras pass *_constraint arguments to layers.\n",
      "epoch 0; iter: 0; batch classifier loss: 0.669620\n",
      "epoch 0; iter: 200; batch classifier loss: 0.522302\n",
      "epoch 1; iter: 0; batch classifier loss: 0.530453\n",
      "epoch 1; iter: 200; batch classifier loss: 0.478425\n",
      "epoch 2; iter: 0; batch classifier loss: 0.493741\n",
      "epoch 2; iter: 200; batch classifier loss: 0.470596\n",
      "epoch 3; iter: 0; batch classifier loss: 0.470760\n",
      "epoch 3; iter: 200; batch classifier loss: 0.437864\n",
      "epoch 4; iter: 0; batch classifier loss: 0.499532\n",
      "epoch 4; iter: 200; batch classifier loss: 0.333345\n",
      "epoch 5; iter: 0; batch classifier loss: 0.425219\n",
      "epoch 5; iter: 200; batch classifier loss: 0.437665\n",
      "epoch 6; iter: 0; batch classifier loss: 0.386269\n",
      "epoch 6; iter: 200; batch classifier loss: 0.422633\n",
      "epoch 7; iter: 0; batch classifier loss: 0.472649\n",
      "epoch 7; iter: 200; batch classifier loss: 0.455902\n",
      "epoch 8; iter: 0; batch classifier loss: 0.449271\n",
      "epoch 8; iter: 200; batch classifier loss: 0.358979\n",
      "epoch 9; iter: 0; batch classifier loss: 0.489157\n",
      "epoch 9; iter: 200; batch classifier loss: 0.410405\n",
      "epoch 10; iter: 0; batch classifier loss: 0.378861\n",
      "epoch 10; iter: 200; batch classifier loss: 0.374950\n",
      "epoch 11; iter: 0; batch classifier loss: 0.407388\n",
      "epoch 11; iter: 200; batch classifier loss: 0.441794\n",
      "epoch 12; iter: 0; batch classifier loss: 0.365578\n",
      "epoch 12; iter: 200; batch classifier loss: 0.425772\n",
      "epoch 13; iter: 0; batch classifier loss: 0.395691\n",
      "epoch 13; iter: 200; batch classifier loss: 0.296555\n",
      "epoch 14; iter: 0; batch classifier loss: 0.324545\n",
      "epoch 14; iter: 200; batch classifier loss: 0.395242\n",
      "Train Accuracy:  0.8093623602188913\n",
      "Test Accuracy:  0.80406852248394\n"
     ]
    },
    {
     "data": {
      "image/png": "[encoded data removed]",
      "text/plain": [
       "<Figure size 432x288 with 1 Axes>"
      ]
     },
     "metadata": {
      "needs_background": "light"
     },
     "output_type": "display_data"
    }
   ],
   "source": [
    "####### Hyperparameters\n",
    "hyperparameters = {'adversary_loss_weight':0.1, \n",
    "                    'batch_size':64, \n",
    "                    'num_epochs':15, \n",
    "                    'learning_rate':0.001\n",
    "                    }\n",
    "\n",
    "\n",
    "def train_model(scope_name, hyperparameters, debias):\n",
    "    with tf.Session() as sess:\n",
    "        model = AdversarialLogisticModel(scope_name, sess, hyperparameters, seed=1, debias=debias)\n",
    "        trained_model, epoch_losses = model.fit(train_features, train_labels, train_protect)\n",
    "        train_pred_labels = trained_model.predict(train_features, train_labels, train_protect)\n",
    "        test_pred_labels = trained_model.predict(test_features, test_labels, test_protect)\n",
    "    return epoch_losses, train_pred_labels, test_pred_labels\n",
    "\n",
    "epoch_losses, train_pred_labels, test_pred_labels = train_model(\"training\", hyperparameters, False)\n",
    "print(\"Train Accuracy: \", accuracy_score(train_labels, train_pred_labels))\n",
    "print(\"Test Accuracy: \", accuracy_score(test_labels, test_pred_labels))\n",
    "plt.plot(list(range(1, hyperparameters['num_epochs']+1)), epoch_losses)\n",
    "plt.show()"
   ]
  },
  {
   "cell_type": "code",
   "execution_count": 17,
   "metadata": {},
   "outputs": [
    {
     "name": "stdout",
     "output_type": "stream",
     "text": [
      "Simple Logistic Model\n",
      "[[950  97]\n",
      " [125 302]]  Females\n",
      "[[1249  534]\n",
      " [ 342 2005]]  Males\n",
      "0.2706919945725916 0.6147699757869249 Fraction predicted positive females, males\n",
      "-0.34407798121433336  statistical_parity_difference\n",
      "0.14702210904548035 FNR difference\n",
      "-0.20684957850354696 FPR difference\n",
      "0.2927400468384075 0.14571793779292713  FNR females, males\n",
      "0.09264565425023878 0.29949523275378576  FPR females, males\n",
      "-0.1470221090454803  true_positive_rate_difference\n",
      "-0.20684957850354696  false_positive_rate_difference\n",
      "-0.17693584377451363  average_odds_difference\n"
     ]
    }
   ],
   "source": [
    "###### Fairness Metrics\n",
    "print(\"Simple Logistic Model\")\n",
    "\n",
    "female_confusion_matrix = binary_confusion_matrix(test_loader.dataset.label, test_pred_labels, test_loader.dataset.protect, 0)\n",
    "male_confusion_matrix = binary_confusion_matrix(test_loader.dataset.label, test_pred_labels, test_loader.dataset.protect, 1)\n",
    "\n",
    "female_fpr = false_positive_rate(female_confusion_matrix)\n",
    "male_fpr = false_positive_rate(male_confusion_matrix)\n",
    "\n",
    "\n",
    "female_fnr = false_negative_rate(female_confusion_matrix)\n",
    "male_fnr = false_negative_rate(male_confusion_matrix)\n",
    "\n",
    "# print(train_accuracy, \"Train Acuuracy\")\n",
    "# print(test_accuracy, \"Test Acuuracy\")\n",
    "\n",
    "print(female_confusion_matrix, \" Females\")\n",
    "print(male_confusion_matrix, \" Males\")\n",
    "\n",
    "print(frac_predicted_positive(female_confusion_matrix), frac_predicted_positive(male_confusion_matrix), \"Fraction predicted positive females, males\")\n",
    "print(statistical_parity_difference(female_confusion_matrix, male_confusion_matrix), \" statistical_parity_difference\")\n",
    "\n",
    "print(female_fnr - male_fnr, \"FNR difference\")\n",
    "print(female_fpr - male_fpr, \"FPR difference\")\n",
    "print(female_fnr, male_fnr, \" FNR females, males\")\n",
    "print(female_fpr, male_fpr, \" FPR females, males\")\n",
    "print(true_positive_rate_difference(female_confusion_matrix, male_confusion_matrix), \" true_positive_rate_difference\")\n",
    "print(false_positive_rate_difference(female_confusion_matrix, male_confusion_matrix), \" false_positive_rate_difference\")\n",
    "print(average_odds_difference(female_confusion_matrix, male_confusion_matrix), \" average_odds_difference\")\n"
   ]
  },
  {
   "cell_type": "code",
   "execution_count": null,
   "metadata": {},
   "outputs": [],
   "source": []
  },
  {
   "cell_type": "code",
   "execution_count": null,
   "metadata": {},
   "outputs": [],
   "source": []
  }
 ],
 "metadata": {
  "kernelspec": {
   "display_name": "Python 3",
   "language": "python",
   "name": "python3"
  },
  "language_info": {
   "codemirror_mode": {
    "name": "ipython",
    "version": 3
   },
   "file_extension": ".py",
   "mimetype": "text/x-python",
   "name": "python",
   "nbconvert_exporter": "python",
   "pygments_lexer": "ipython3",
   "version": "3.7.3"
  }
 },
 "nbformat": 4,
 "nbformat_minor": 2
}
